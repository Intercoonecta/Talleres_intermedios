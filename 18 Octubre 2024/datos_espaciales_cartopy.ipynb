{
 "cells": [
  {
   "cell_type": "markdown",
   "id": "b240a401",
   "metadata": {},
   "source": [
    "# Datos espaciales con Cartopy"
   ]
  },
  {
   "cell_type": "markdown",
   "id": "212326cd",
   "metadata": {},
   "source": [
    "![SST MODIS](SST_MODIS.jpg)\n",
    "\n",
    "En este notebook vamos a ver como representar datos espaciales en mapas.     \n",
    "Existen 2 paquetes que functionan de manera similar:\n",
    "1. [`cartopy`](https://scitools.org.uk/cartopy/)\n",
    "2. [`Basemap`](https://matplotlib.org/basemap/stable/).\n",
    "\n",
    "Aquí nos centraremos sobre la utilización de `cartopy`, mientras `Basemap` será presentado en [datos_espaciales_basemap](datos_espaciales_basemap.ipynb)"
   ]
  },
  {
   "cell_type": "markdown",
   "id": "e7fa28b8",
   "metadata": {},
   "source": [
    "## Instalación\n",
    "Como todos los paquetes de Python, existen varias maneras de instalar `cartopy` y `Basemap`. Lo importante es no mezclar los métodos de instalación. Por ejemplo si paquetes han sido instalado a través de \n",
    "```bash\n",
    "pip install nombre_del_paquete\n",
    "```\n",
    "es preferible seguir con este metodo.\n",
    "### Cartopy\n",
    "```bash\n",
    "pip install cartopy\n",
    "```\n",
    "Si el comando ha funcionado, se obtendra un mensaje terminando por:\n",
    "```bash\n",
    "...\n",
    "Installing collected packages: shapely, pyshp, pyproj, cartopy\n",
    "Successfully installed cartopy-0.23.0 pyproj-3.6.1 pyshp-2.3.1 shapely-2.0.6\n",
    "```\n",
    "(los números de versiones pueden cambiar).\n",
    "### Basemap\n",
    "```bash\n",
    "pip install basemap\n",
    "```\n",
    "Si el comando ha funcionado, se obtendra un mensaje terminando por:\n",
    "```bash\n",
    "...\n",
    "Installing collected packages: basemap-data, Basemap\n",
    "Successfully installed Basemap-1.4.1 basemap-data-1.3.2\n",
    "```"
   ]
  },
  {
   "cell_type": "code",
   "execution_count": null,
   "id": "49b6bb09",
   "metadata": {},
   "outputs": [],
   "source": [
    "import sys\n",
    "!{sys.executable} -m pip install cartopy\n",
    "!{sys.executable} -m pip install Basemap"
   ]
  },
  {
   "cell_type": "markdown",
   "id": "bb46776d",
   "metadata": {},
   "source": [
    "## Creación de una proyección\n",
    "La primera etapa consiste en la creación de una proyección, o para ser más preciso: un _Sistema de referencia de coordenadas_ (CRS in inglés: _Coordinate reference system_).\n",
    "\n",
    "La lista de CRS se encuentra en https://scitools.org.uk/cartopy/docs/v0.15/crs/projections.html. En este ejemplo vamos a trabajar con una proyección de Miller."
   ]
  },
  {
   "cell_type": "code",
   "execution_count": null,
   "id": "0ddc2f95",
   "metadata": {},
   "outputs": [],
   "source": [
    "import os\n",
    "import netCDF4\n",
    "from urllib.request import urlretrieve\n",
    "import matplotlib.pyplot as plt\n",
    "import cartopy.crs as ccrs\n",
    "mainproj = ccrs.Miller()"
   ]
  },
  {
   "cell_type": "markdown",
   "id": "56cffb50",
   "metadata": {},
   "source": [
    "Se puede visualizar directamente el objeto creado:"
   ]
  },
  {
   "cell_type": "code",
   "execution_count": null,
   "id": "fe4d4160",
   "metadata": {},
   "outputs": [],
   "source": [
    "mainproj"
   ]
  },
  {
   "cell_type": "markdown",
   "id": "2ec06210",
   "metadata": {},
   "source": [
    "### Selección de una zona de interés\n",
    "Definimos una variable `domain` que contiene los limites, en el orden (oeste, este, sur, norte)."
   ]
  },
  {
   "cell_type": "code",
   "execution_count": null,
   "id": "68c7a7a5",
   "metadata": {},
   "outputs": [],
   "source": [
    "domain = (-77, -52, -56., -40.)"
   ]
  },
  {
   "cell_type": "markdown",
   "id": "32e29d89",
   "metadata": {},
   "source": [
    "La figura siguiente no contiene nada (excepto el rectángulo negro: es normal).    \n",
    "Vamos a ver como añadir un campo de temperatura del mar.    "
   ]
  },
  {
   "cell_type": "code",
   "execution_count": null,
   "id": "00633755",
   "metadata": {},
   "outputs": [],
   "source": [
    "fig = plt.figure()\n",
    "ax = plt.subplot(111, projection=mainproj)\n",
    "ax.set_extent(domain)"
   ]
  },
  {
   "cell_type": "markdown",
   "id": "4872d17c",
   "metadata": {},
   "source": [
    "## Datos 2D\n",
    "La figura anterior no contiene nada, así que vamos a añadir un campo de temperatura del mar.    \n",
    "El fichero se puede obtener desde la web de [Ocean Color](https://oceancolor.gsfc.nasa.gov/l3/). Es necesario tener una cuenta para bajar ficheros, así que dejamos un enlace para bajar un fichero ejemplo.\n",
    "\n",
    "Contienen la temperatura del mar (sensor MODIS, satélite Terra), promediado sobre el periodo 2000-2024."
   ]
  },
  {
   "cell_type": "code",
   "execution_count": null,
   "id": "403d26a3",
   "metadata": {},
   "outputs": [],
   "source": [
    "sstfile = \"SST_MODIS.nc\"\n",
    "if not(os.path.exists(sstfile)):\n",
    "    urlretrieve(\"https://dox.uliege.be/index.php/s/ESRPp1TIRDk28Fs/download\", sstfile)"
   ]
  },
  {
   "cell_type": "code",
   "execution_count": null,
   "id": "a936f8ce",
   "metadata": {},
   "outputs": [],
   "source": [
    "with netCDF4.Dataset(sstfile, \"r\") as nc:\n",
    "    lon = nc.variables[\"lon\"][:]\n",
    "    lat = nc.variables[\"lat\"][:]\n",
    "    SST = nc.variables[\"sst4\"][:]"
   ]
  },
  {
   "cell_type": "markdown",
   "id": "7b49f907",
   "metadata": {},
   "source": [
    "### Figura simple\n",
    "Para visualizar el contenido, utilizamos `pcolormesh`."
   ]
  },
  {
   "cell_type": "code",
   "execution_count": null,
   "id": "745156e3",
   "metadata": {},
   "outputs": [],
   "source": [
    "plt.pcolormesh(lon, lat, SST)"
   ]
  },
  {
   "cell_type": "markdown",
   "id": "9a32413d",
   "metadata": {},
   "source": [
    "### Mapa\n",
    "\n",
    "Preparamos una figura básica para comprobar que todo funciona correctamente.\n",
    "\n",
    "__Importante:__ el argumento `transform=...` en la funcción `pcolormesh`, que indica cual es el sistema de coordenadas de los datos que queremos representar (la SST en este caso). Más información en la web de `cartopy`: https://scitools.org.uk/cartopy/docs/latest/tutorials/understanding_transform.html"
   ]
  },
  {
   "cell_type": "code",
   "execution_count": null,
   "id": "668cae60",
   "metadata": {},
   "outputs": [],
   "source": [
    "fig = plt.figure()\n",
    "ax = plt.subplot(111, projection=mainproj)\n",
    "ax.set_extent(domain)\n",
    "pcm = ax.pcolormesh(lon, lat, SST, transform=ccrs.PlateCarree())\n",
    "cb = plt.colorbar(pcm)\n",
    "plt.show()"
   ]
  },
  {
   "cell_type": "markdown",
   "id": "1f5b28aa",
   "metadata": {},
   "source": [
    "## Decoración del mapa\n",
    "El mapa anterior se puede mejorar en muchos aspectos:\n",
    "- añadir cuadrícula de coordenadas en los ejes,\n",
    "- añadir una linea de costa,\n",
    "- adaptaro el rango de color."
   ]
  },
  {
   "cell_type": "markdown",
   "id": "62815765",
   "metadata": {},
   "source": [
    "### Cuadrícula\n",
    "Utilizamos la function `gridlines`, que permite cambiar el aspecto de las líneas.     "
   ]
  },
  {
   "cell_type": "code",
   "execution_count": null,
   "id": "7ab73904",
   "metadata": {},
   "outputs": [],
   "source": [
    "fig = plt.figure()\n",
    "ax = plt.subplot(111, projection=mainproj)\n",
    "ax.set_extent(domain)\n",
    "gl = ax.gridlines(draw_labels=True, linewidth=.5, color='.25', linestyle='-.', zorder=2)\n",
    "plt.show()"
   ]
  },
  {
   "cell_type": "markdown",
   "id": "795413e7",
   "metadata": {},
   "source": [
    "A veces preferimos quitar los simbolos de coordenadas por la derecha y arriba, eso se hace a través de las propiedades objeto `gl`:"
   ]
  },
  {
   "cell_type": "code",
   "execution_count": null,
   "id": "594e8da9",
   "metadata": {},
   "outputs": [],
   "source": [
    "fig = plt.figure()\n",
    "ax = plt.subplot(111, projection=mainproj)\n",
    "ax.set_extent(domain)\n",
    "gl = ax.gridlines(draw_labels=True, linewidth=.5, color='.25', linestyle='-.', zorder=2)\n",
    "gl.top_labels = False\n",
    "gl.right_labels = False\n",
    "plt.show()"
   ]
  },
  {
   "cell_type": "markdown",
   "id": "a1ddfbbf",
   "metadata": {},
   "source": [
    "### Linea de costa\n",
    "Cartopy permite el uso de la costa del _Global Self-consistent, Hierarchical, High-resolution Geography Database_ ([GSHHG](https://www.soest.hawaii.edu/pwessel/gshhg/)), que tiene 5 resolutiones espaciales disponibles:\n",
    "- \"c\" (crude) = crudo\n",
    "- \"l\" (low) = bajo\n",
    "- \"i\" (intermediate) = intermedio\n",
    "- \"h\" (high) = alto\n",
    "- \"f\" (full) = completo.\n",
    "\n",
    "La elección de resolución depende del tamaño de la zona de interés: para un mapa global, no es necesario trabajar con la resolución _full_. \n",
    "\n",
    "La figura siguiente ilustra las diferencias entre casa resolución. La figura puede tardar uno segundos en generarse, ya que se tiene que preparar la linea de costa de alta resolucón para la zona de estudio."
   ]
  },
  {
   "cell_type": "code",
   "execution_count": null,
   "id": "e7872ab7",
   "metadata": {},
   "outputs": [],
   "source": [
    "import cartopy.feature as cfeature\n",
    "\n",
    "fig = plt.figure(figsize=(10, 5))\n",
    "for iii, res in enumerate([\"c\", \"l\", \"i\", \"h\", \"f\"]):\n",
    "    ax = plt.subplot(2, 3, iii + 1, projection=mainproj)\n",
    "    coast = cfeature.GSHHSFeature(scale=res)\n",
    "    ax.add_feature(coast, linewidth=0.5)\n",
    "    ax.set_extent(domain)\n",
    "    ax.set_title(res)\n",
    "\n",
    "plt.suptitle(\"GSHHS coastline\")\n",
    "plt.show()\n",
    "plt.close()"
   ]
  },
  {
   "cell_type": "markdown",
   "id": "0f9afddf",
   "metadata": {},
   "source": [
    "Vemos que en la primera sub-figura, la resolución no es suficiente, mientras que en las otras, tenemos un nivel de detalle suficiente. \n",
    "\n",
    "Para ilustrar mejor estas diferencias, nos centramos sobre una zona más redudica."
   ]
  },
  {
   "cell_type": "code",
   "execution_count": null,
   "id": "9f881f19",
   "metadata": {},
   "outputs": [],
   "source": [
    "smalldomain = (-91.8, -89.1, -1.6, 0.75)\n",
    "fig = plt.figure(figsize=(10, 5))\n",
    "for iii, res in enumerate([\"c\", \"l\", \"i\", \"h\", \"f\"]):\n",
    "    ax = plt.subplot(2, 3, iii + 1, projection=mainproj)\n",
    "    coast = cfeature.GSHHSFeature(scale=res)\n",
    "    ax.add_feature(coast, linewidth=0.5)\n",
    "    ax.set_extent(smalldomain)\n",
    "    ax.set_title(res)\n",
    "plt.suptitle(\"GSHHS coastline\")\n",
    "plt.show()\n",
    "plt.close()"
   ]
  },
  {
   "cell_type": "markdown",
   "id": "0230d917",
   "metadata": {},
   "source": [
    "Finalmente, para regiones muy limitada, es necesario trabajar con la resolución completa de GSHHS."
   ]
  },
  {
   "cell_type": "code",
   "execution_count": null,
   "id": "c5cac920",
   "metadata": {},
   "outputs": [],
   "source": [
    "verysmalldomain = (-90.57, -90.14, -0.8, -0.337)\n",
    "fig = plt.figure(figsize=(10, 5))\n",
    "for iii, res in enumerate([\"c\", \"l\", \"i\", \"h\", \"f\"]):\n",
    "    ax = plt.subplot(2, 3, iii + 1, projection=mainproj)\n",
    "    coast = cfeature.GSHHSFeature(scale=res)\n",
    "    ax.add_feature(coast, linewidth=0.5)\n",
    "    ax.set_extent(verysmalldomain)\n",
    "    ax.set_title(res)\n",
    "plt.suptitle(\"GSHHS coastline\")\n",
    "plt.show()\n",
    "plt.close()"
   ]
  },
  {
   "cell_type": "markdown",
   "id": "8801c5d8",
   "metadata": {},
   "source": [
    "### Rango de color\n",
    "No es una operación relacionada con el mapa sino con la función `pcolormesh`. "
   ]
  },
  {
   "cell_type": "code",
   "execution_count": null,
   "id": "f5c93ed4",
   "metadata": {},
   "outputs": [],
   "source": [
    "fig = plt.figure()\n",
    "ax = plt.subplot(111, projection=mainproj)\n",
    "ax.set_extent(domain)\n",
    "pcm = ax.pcolormesh(lon, lat, SST, transform=ccrs.PlateCarree(), vmin=4., vmax=14., \n",
    "                    cmap=plt.cm.RdYlBu_r)\n",
    "cb = plt.colorbar(pcm, extend=\"both\")\n",
    "cb.set_label(\"SST (°C)\", rotation=0, ha=\"left\")\n",
    "plt.show()"
   ]
  },
  {
   "cell_type": "markdown",
   "id": "6309f2e8",
   "metadata": {},
   "source": [
    "## Figura final\n",
    "Combinando las etapas anteriores."
   ]
  },
  {
   "cell_type": "code",
   "execution_count": null,
   "id": "e5597231",
   "metadata": {},
   "outputs": [],
   "source": [
    "fig = plt.figure()\n",
    "ax = plt.subplot(111, projection=mainproj)\n",
    "ax.set_extent(domain)\n",
    "ax.set_title(\"Temperatura de la superficie del mar\\nMODIS Terra (2000-2024)\")\n",
    "pcm = ax.pcolormesh(lon, lat, SST, transform=ccrs.PlateCarree(), vmin=4., vmax=14., \n",
    "                    cmap=plt.cm.RdYlBu_r)\n",
    "coast = cfeature.GSHHSFeature(scale=\"l\")\n",
    "ax.add_feature(coast, linewidth=0.25, facecolor='.65')\n",
    "\n",
    "gl = ax.gridlines(draw_labels=True, linewidth=.5, color='.25', linestyle='-.', zorder=2)\n",
    "gl.top_labels = False\n",
    "gl.right_labels = False\n",
    "\n",
    "cb = plt.colorbar(pcm, extend=\"both\")\n",
    "cb.set_label(\"SST (°C)\", rotation=0, ha=\"left\")"
   ]
  },
  {
   "cell_type": "markdown",
   "id": "f006c621",
   "metadata": {},
   "source": [
    "## Ejercicios\n",
    "1. Cambiar la zona de interés (dentro de la zona de figura). Adaptar el rango de valores de temperatura.\n",
    "2. Cambiar el sistema de coordenadas. \n",
    "3. Añadir las fronteras y los ríos."
   ]
  },
  {
   "cell_type": "code",
   "execution_count": null,
   "id": "354d6f0d",
   "metadata": {},
   "outputs": [],
   "source": []
  }
 ],
 "metadata": {
  "@webio": {
   "lastCommId": null,
   "lastKernelId": null
  },
  "kernelspec": {
   "display_name": "Python 3 (ipykernel)",
   "language": "python",
   "name": "python3"
  },
  "language_info": {
   "codemirror_mode": {
    "name": "ipython",
    "version": 3
   },
   "file_extension": ".py",
   "mimetype": "text/x-python",
   "name": "python",
   "nbconvert_exporter": "python",
   "pygments_lexer": "ipython3",
   "version": "3.11.0"
  }
 },
 "nbformat": 4,
 "nbformat_minor": 5
}
