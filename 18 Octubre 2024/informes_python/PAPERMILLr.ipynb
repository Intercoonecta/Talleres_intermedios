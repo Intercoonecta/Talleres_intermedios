{
 "cells": [
  {
   "cell_type": "markdown",
   "metadata": {},
   "source": [
    "Con la herramienta papermill en python, y el notebook plantilla (TEMPLATE) podemos generar datos y graficas para informes (o informes diretamente) periodicamente."
   ]
  },
  {
   "cell_type": "code",
   "execution_count": 5,
   "metadata": {},
   "outputs": [],
   "source": [
    "import papermill as pm"
   ]
  },
  {
   "cell_type": "code",
   "execution_count": 2,
   "metadata": {},
   "outputs": [],
   "source": [
    "fechas     = ['1965-01-01',\n",
    "              '1969-01-01',\n",
    "              '1972-01-01']\n",
    "\n",
    "nombre_salida = 'output_' + fechas[0]"
   ]
  },
  {
   "cell_type": "code",
   "execution_count": 3,
   "metadata": {
    "scrolled": true
   },
   "outputs": [
    {
     "data": {
      "application/vnd.jupyter.widget-view+json": {
       "model_id": "a071800c395e48db9da49b10576a9141",
       "version_major": 2,
       "version_minor": 0
      },
      "text/plain": [
       "Executing:   0%|          | 0/19 [00:00<?, ?cell/s]"
      ]
     },
     "metadata": {},
     "output_type": "display_data"
    },
    {
     "name": "stderr",
     "output_type": "stream",
     "text": [
      "[NbConvertApp] Converting notebook output_1965-01-01.ipynb to html\n",
      "[NbConvertApp] WARNING | Alternative text is missing on 3 image(s).\n",
      "[NbConvertApp] Writing 620201 bytes to output_1965-01-01.html\n"
     ]
    },
    {
     "data": {
      "application/vnd.jupyter.widget-view+json": {
       "model_id": "f5dc3300ad55469a89adfc321e357d7c",
       "version_major": 2,
       "version_minor": 0
      },
      "text/plain": [
       "Executing:   0%|          | 0/19 [00:00<?, ?cell/s]"
      ]
     },
     "metadata": {},
     "output_type": "display_data"
    },
    {
     "name": "stderr",
     "output_type": "stream",
     "text": [
      "[NbConvertApp] Converting notebook output_1969-01-01.ipynb to html\n",
      "[NbConvertApp] WARNING | Alternative text is missing on 3 image(s).\n",
      "[NbConvertApp] Writing 605633 bytes to output_1969-01-01.html\n"
     ]
    },
    {
     "data": {
      "application/vnd.jupyter.widget-view+json": {
       "model_id": "e86416b63c3c496e8ba2ab34485e1a5b",
       "version_major": 2,
       "version_minor": 0
      },
      "text/plain": [
       "Executing:   0%|          | 0/19 [00:00<?, ?cell/s]"
      ]
     },
     "metadata": {},
     "output_type": "display_data"
    },
    {
     "name": "stderr",
     "output_type": "stream",
     "text": [
      "[NbConvertApp] Converting notebook output_1972-01-01.ipynb to html\n",
      "[NbConvertApp] WARNING | Alternative text is missing on 3 image(s).\n",
      "[NbConvertApp] Writing 617037 bytes to output_1972-01-01.html\n"
     ]
    }
   ],
   "source": [
    "for fecha in fechas:\n",
    "    pm.execute_notebook('TEMPLATE.ipynb'\n",
    "        , 'output_' + fecha + '.ipynb'\n",
    "        , parameters=dict(fecha=fecha, nombre_salida='output_' + fecha))\n"
   ]
  },
  {
   "cell_type": "code",
   "execution_count": null,
   "metadata": {},
   "outputs": [],
   "source": []
  }
 ],
 "metadata": {
  "anaconda-cloud": {},
  "kernelspec": {
   "display_name": "Python 3 (ipykernel)",
   "language": "python",
   "name": "python3"
  },
  "language_info": {
   "codemirror_mode": {
    "name": "ipython",
    "version": 3
   },
   "file_extension": ".py",
   "mimetype": "text/x-python",
   "name": "python",
   "nbconvert_exporter": "python",
   "pygments_lexer": "ipython3",
   "version": "3.12.4"
  }
 },
 "nbformat": 4,
 "nbformat_minor": 4
}
