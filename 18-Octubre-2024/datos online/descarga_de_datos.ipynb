{
 "cells": [
  {
   "cell_type": "markdown",
   "metadata": {},
   "source": [
    "## COPERNICUS MARINE DATA STORE\n",
    "https://data.marine.copernicus.eu/products\n",
    "\n",
    "![logo_copernicus](imagenes_descarga_datos/copernicus_logos.PNG)"
   ]
  },
  {
   "cell_type": "markdown",
   "metadata": {},
   "source": [
    "![overview_producto](imagenes_descarga_datos/overview.PNG)\n",
    "\n",
    "Opción: Explore in MyOcean Pro\n",
    "\n",
    "![my_ocean_pro](imagenes_descarga_datos/my_ocean_pro.PNG)"
   ]
  },
  {
   "cell_type": "markdown",
   "metadata": {},
   "source": [
    "# Descarga de datos\n",
    "Opción: Data access\n",
    "\n",
    "# Servicios de acceso a datos y mapeo\n",
    "Hay muchas maneras de descargar datos de este producto:\n",
    "\n",
    "* Si prefieres una herramienta gráfica, haz clic en el botón de la parte superior derecha ![descarga_directa](imagenes_descarga_datos/boton_descarga.PNG)\n",
    "* __Subconjunto__: El enfoque gráfico más intuitivo para seleccionar datos en el tiempo, espacio y/o variables. Para un enfoque de programación (similar a WCS)--> <u>Copernicus Marine Toolbox</u>: CLI o API de Python.\n",
    "* __Archivos__: El enfoque gráfico más rápido para obtener archivos originales (similar a FTP). Para un enfoque de programación --> <u>Copernicus Marine Toolbox</u>: CLI> o API de Python.\n",
    "* __Mapas__: El servicio de mapas estándar para el enfoque GIS (QGIS u otras herramientas similares). por ejemplo,\n",
    "https://wmts.marine.copernicus.eu/teroWmts/?service=WMTS&version=1.0.0&request=GetTile&layer=GLOBAL_ANALYSISFORECAST_PHY_001_024/cmems_mod_glo_phy-cur_anfc_0.083deg_PT6H-i_202406/uo&tilematrixset=EPSG:4326&tilematrix=2&tilerow=2&tilecol=6\n",
    "* Si buscas un acceso a datos con carga diferida (similar a xarray/OPeNDAP), copia el ID del conjunto de datos y úsalo con la <u>Copernicus Marine Toolbox</u>: API de Python.\n",
    "\n"
   ]
  },
  {
   "cell_type": "markdown",
   "metadata": {},
   "source": [
    "Interfaz gráfica\n",
    "\n",
    "![descarga_directa](imagenes_descarga_datos/boton_descarga.PNG) o ![descarga_directa](imagenes_descarga_datos/modos_descarga.PNG)"
   ]
  },
  {
   "cell_type": "markdown",
   "metadata": {},
   "source": [
    "# Archivos\n",
    "\n",
    "![descarga_archivos](imagenes_descarga_datos/descarga_archivos.PNG)\n",
    "\n",
    "# Subconjuntos\n",
    "\n",
    "![descarga_subsets](imagenes_descarga_datos/descarga_subsets.PNG)"
   ]
  },
  {
   "cell_type": "markdown",
   "metadata": {},
   "source": [
    "## COPERNICUS MARINE TOOLBOX\n",
    "Tiene cuatro comandos\n",
    "* Login: establecer un archivo de configuración para que los usuarios no necesiten gestionar credenciales.\n",
    "\n",
    "* Describe: analizar el catálogo para recuperar metadatos relacionados con productos y conjuntos de datos.\n",
    "\n",
    "* Subset: seleccionar remotamente un subconjunto de datos como archivos NetCDF o almacenes Zarr, sin límite de volumen.\n",
    "\n",
    "* Get: descargar archivos tal como fueron entregados originalmente por los Productores, sin límite de volumen."
   ]
  },
  {
   "cell_type": "markdown",
   "metadata": {},
   "source": [
    "### INTERFAZ DE LINEA DE COMANDOS (CLI)\n",
    "\n",
    "#### Instalación\n",
    "File --> new --> terminal\n",
    "1. Crear y activar entorno virtual\n",
    "\n",
    "![crear_venv](imagenes_descarga_datos/crear_venv.PNG)"
   ]
  },
  {
   "cell_type": "markdown",
   "metadata": {},
   "source": [
    "2. Instalar la librería\n",
    "\n",
    "![instalar_libreria](imagenes_descarga_datos/instalar_libreria.PNG)\n",
    "![final_instalacion_libreria](imagenes_descarga_datos/final_instalacion_libreria.PNG)"
   ]
  },
  {
   "cell_type": "markdown",
   "metadata": {},
   "source": [
    "3. Ejecutar\n",
    "\n",
    "![run_toolbox](imagenes_descarga_datos/run_toolbox.PNG)"
   ]
  },
  {
   "cell_type": "markdown",
   "metadata": {},
   "source": [
    "### Descarga de datos\n",
    "![descarga_cli](imagenes_descarga_datos/descarga_cli.PNG)"
   ]
  },
  {
   "cell_type": "markdown",
   "metadata": {},
   "source": [
    "Copiar y pegar en la terminal\n",
    "\n",
    "![descarga_cli2](imagenes_descarga_datos/descarga_cli2.PNG)"
   ]
  },
  {
   "cell_type": "markdown",
   "metadata": {},
   "source": [
    "Para ver la cabecera del fichero\n",
    "\n",
    "ncdump -c nombre_fichero.nc\n",
    "\n",
    "![ver_cabecera](imagenes_descarga_datos/ver_cabecera.PNG)"
   ]
  },
  {
   "cell_type": "markdown",
   "metadata": {},
   "source": [
    "### API DE PYTHON\n",
    "Dos comandos exclusivos:\n",
    "* open_dataset: función multipropósito para cargar datasets xarray\n",
    "* read_dataframe: facilita la manipulación remota y extración local con dataframes de pandas"
   ]
  },
  {
   "cell_type": "markdown",
   "metadata": {},
   "source": [
    "![descarga_api.png](imagenes_descarga_datos/descarga_api.PNG)\n"
   ]
  },
  {
   "cell_type": "code",
   "execution_count": null,
   "metadata": {},
   "outputs": [],
   "source": [
    "'''\n",
    "Ejemplo de open_dataset\n",
    "'''\n",
    "\n",
    "# Importar la librería\n",
    "import copernicusmarine\n",
    "\n",
    "# Establecer parámetros\n",
    "data_request = {\n",
    "   \"dataset_id_sst_gap_l3s\" : \"cmems_obs-sst_atl_phy_nrt_l3s_P1D-m\",\n",
    "   \"longitude\" : [-6.17, -5.09], \n",
    "   \"latitude\" : [35.75, 36.29],\n",
    "   \"time\" : [\"2023-01-01\", \"2023-01-31\"],\n",
    "   \"variables\" : [\"sea_surface_temperature\"]\n",
    "}\n",
    "\n",
    "# Cargar xarray\n",
    "sst_l3s = copernicusmarine.open_dataset(\n",
    "    dataset_id = data_request[\"dataset_id_sst_gap_l3s\"],\n",
    "    minimum_longitude = data_request[\"longitude\"][0],\n",
    "    maximum_longitude = data_request[\"longitude\"][1],\n",
    "    minimum_latitude = data_request[\"latitude\"][0],\n",
    "    maximum_latitude = data_request[\"latitude\"][1],\n",
    "    start_datetime = data_request[\"time\"][0],\n",
    "    end_datetime = data_request[\"time\"][1],\n",
    "    variables = data_request[\"variables\"]\n",
    ")\n",
    "\n",
    "# Imprimir la información del dataset\n",
    "print(sst_l3s)"
   ]
  },
  {
   "cell_type": "code",
   "execution_count": null,
   "metadata": {},
   "outputs": [],
   "source": [
    "'''\n",
    "Ejemplo de read_dataframe\n",
    "'''\n",
    "# Cargar la librería\n",
    "import copernicusmarine\n",
    "\n",
    "# Cargar el dataframe\n",
    "request_dataframe = copernicusmarine.read_dataframe(\n",
    "    dataset_id = \"cmems_obs-oc_med_bgc-plankton_my_l4-gapfree-multi-1km_P1D\",\n",
    "    minimum_longitude = 35.381,\n",
    "    maximum_longitude = 35.381,\n",
    "    minimum_latitude = 34.121,\n",
    "    maximum_latitude = 34.121,\n",
    "    variables = [\"CHL\"],\n",
    "    start_datetime = \"1997-09-16\",\n",
    "    end_datetime = \"1997-12-31\"\n",
    ")\n",
    "\n",
    "# Imprimir la información del dataset\n",
    "print(request_dataframe)"
   ]
  }
 ],
 "metadata": {
  "kernelspec": {
   "display_name": "base",
   "language": "python",
   "name": "python3"
  },
  "language_info": {
   "codemirror_mode": {
    "name": "ipython",
    "version": 3
   },
   "file_extension": ".py",
   "mimetype": "text/x-python",
   "name": "python",
   "nbconvert_exporter": "python",
   "pygments_lexer": "ipython3",
   "version": "3.12.4"
  }
 },
 "nbformat": 4,
 "nbformat_minor": 2
}
