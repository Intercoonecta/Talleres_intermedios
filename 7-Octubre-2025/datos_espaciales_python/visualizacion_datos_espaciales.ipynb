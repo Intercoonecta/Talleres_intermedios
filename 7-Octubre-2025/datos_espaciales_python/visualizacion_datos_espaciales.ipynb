{
 "cells": [
  {
   "cell_type": "markdown",
   "id": "6d68029e",
   "metadata": {},
   "source": [
    "# Visualización de datos geoespaciales con Cartopy 🌍\n",
    "\n",
    "Este notebook introduce el uso de **Cartopy** para visualizar datos espaciales. \n",
    "Si encuentran ejemplos antiguos en Basemap, la lógica es bastante parecida.\n",
    "\n",
    "Veremos:\n",
    "- Cómo visualizar datos geoespaciales a través de mapas con distintas proyecciones.\n",
    "- Elementos y herramientas del gráfico (línea de costa, barras de colores y rangos, cuadrícula en los ejes).\n",
    "- Diferentes formas de visualizar nuestros datos (`pcolormesh`, `contourf` y `contour`).\n",
    "\n",
    "El notebook está pensado como una herramienta práctica para aprender y luego consultar cuando lo necesiten."
   ]
  },
  {
   "cell_type": "markdown",
   "id": "5fab21a4",
   "metadata": {},
   "source": [
    "## Diferencia entre **Matplotlib**, **Basemap** y **Cartopy**\n",
    "\n",
    "- **Matplotlib**: grafica en coordenadas cartesianas (x, y).  \n",
    "- **Basemap**: fue la primera extensión de matplotlib para mapas, hoy está en desuso.  \n",
    "- **Cartopy**: la librería actual recomendada; integra directamente con matplotlib y soporta múltiples proyecciones.  \n",
    "\n",
    "Cartopy es más flexible y tiene soporte activo."
   ]
  },
  {
   "cell_type": "markdown",
   "id": "459a70a3",
   "metadata": {},
   "source": [
    "## 1. Instalación\n",
    "\n",
    "Para instalar las librerías necesarias, escribimos en la terminal dentro de nuestro entorno de trabajo:\n",
    "\n",
    "```bash\n",
    "pip install xarray matplotlib cartopy cmocean\n",
    "```"
   ]
  },
  {
   "cell_type": "markdown",
   "id": "548867ef",
   "metadata": {},
   "source": [
    "## 2. Importación de librerías necesarias"
   ]
  },
  {
   "cell_type": "code",
   "execution_count": null,
   "id": "910d69d5",
   "metadata": {},
   "outputs": [],
   "source": [
    "import xarray as xr\n",
    "import matplotlib.pyplot as plt\n",
    "import cartopy.crs as ccrs\n",
    "import cartopy.feature as cfeature\n",
    "import cmocean\n",
    "import numpy as np"
   ]
  },
  {
   "cell_type": "markdown",
   "id": "7e99a733",
   "metadata": {},
   "source": [
    "## 3. Abrir nuestro archivo de datos con formato NetCDF\n",
    "\n",
    "Usaremos un archivo NetCDF que contiene información global de temperatura superficial del mar (SST), para un día en particular, que está disponible y pueden descargar en https://data.remss.com/SST/daily/mw_ir/v05.1/netcdf/.\n",
    "\n",
    "En este ejemplo, el archivo se llama `20251004120000-REMSS-L4_GHRSST-SSTfnd-MW_IR_OI-GLOB-v02.0-fv05.1.nc`, y tiene coordenadas `lat`,`lon` y `time`. "
   ]
  },
  {
   "cell_type": "code",
   "execution_count": null,
   "id": "e30ee82b",
   "metadata": {},
   "outputs": [],
   "source": [
    "# Abrir dataset NetCDF\n",
    "path = '/home/jovyan/shared/datos_para_tutoriales/Talleres_intermedios/7-Octubre-2025/datos_espaciales_python/20251004120000-REMSS-L4_GHRSST-SSTfnd-MW_IR_OI-GLOB-v02.0-fv05.1.nc'\n",
    "ds = xr.open_dataset(path)"
   ]
  },
  {
   "cell_type": "code",
   "execution_count": null,
   "id": "25ef297a-4a06-45c2-a186-5b5d4eb6e8be",
   "metadata": {},
   "outputs": [],
   "source": [
    "# Seleccionamos la variable que contiene los datos de temperatura, en este caso: `analysed_sst`\n",
    "sst_data = ds.analysed_sst"
   ]
  },
  {
   "cell_type": "code",
   "execution_count": null,
   "id": "8367efe6-c59d-49aa-acec-e4190a397a52",
   "metadata": {},
   "outputs": [],
   "source": [
    "# Seleccionamos el primer tiempo del dataset para obtener una variable espacial 2D\n",
    "sst_2D = sst_data.isel(time=0)\n",
    "sst_2D = sst_2D\n",
    "\n",
    "# Pasamos a grados celsius\n",
    "sst = sst_2D - 273"
   ]
  },
  {
   "cell_type": "markdown",
   "id": "c31eae18",
   "metadata": {},
   "source": [
    "## 4. Visualización básica con Matplotlib (sin proyección)\n",
    "\n",
    "Usaremos `pcolormesh` para una visualización rápida de los datos."
   ]
  },
  {
   "cell_type": "code",
   "execution_count": null,
   "id": "64a7f117",
   "metadata": {},
   "outputs": [],
   "source": [
    "# Definimos variables de latitud y longitud\n",
    "lon = sst.lon.values\n",
    "lat = sst.lat.values\n",
    "\n",
    "plt.pcolormesh(lon, lat, sst)"
   ]
  },
  {
   "cell_type": "code",
   "execution_count": null,
   "id": "3339881f",
   "metadata": {},
   "outputs": [],
   "source": [
    "# Lo pongo en contexto de una figura, con título, ejes y barra de colores. Además, cambiamos el colormap.\n",
    "plt.figure(figsize=(8,5))\n",
    "plt.pcolormesh(lon, lat, sst, cmap=cmocean.cm.thermal) \n",
    "plt.colorbar(label=\"SST (°C)\")\n",
    "plt.title(\"Visualización básica con matplotlib (sin proyección)\")\n",
    "plt.xlabel(\"Longitud\")\n",
    "plt.ylabel(\"Latitud\")\n",
    "plt.show()"
   ]
  },
  {
   "cell_type": "markdown",
   "id": "11834d0e",
   "metadata": {},
   "source": [
    "## 5. Visualización básica con Cartopy\n",
    "\n",
    "Graficaremos el campo de temperatura en una proyección **PlateCarree** (la más simple) y agregaremos las líneas de costa.\n",
    "\n",
    "Nota: `transform=ccrs.PlateCarree()` indica que las coordenadas de los datos están en lat/lon. Esto es importante para que Cartopy proyecte correctamente los datos sobre la proyección del mapa."
   ]
  },
  {
   "cell_type": "code",
   "execution_count": null,
   "id": "602486f8",
   "metadata": {},
   "outputs": [],
   "source": [
    "fig = plt.figure(figsize=(10,6))\n",
    "ax = plt.axes(projection=ccrs.PlateCarree()) \n",
    "sst.plot.pcolormesh(ax=ax, transform=ccrs.PlateCarree(), cmap=cmocean.cm.thermal,\n",
    "                    cbar_kwargs={'label': 'SST (°C)'})\n",
    "ax.coastlines()\n",
    "ax.set_title(\"Temperatura superficial del mar - Proyección PlateCarree\")\n",
    "plt.show()"
   ]
  },
  {
   "cell_type": "markdown",
   "id": "8d08114f",
   "metadata": {},
   "source": [
    "## Ejemplo con otra proyección y agregado de herramientas Cartopy\n",
    "\n",
    "La **proyección Miller** es similar a Mercator, pero corrige ligeramente la distorsión en latitudes altas. Útil para mapas globales.\n",
    "\n",
    "Además, definimos los límites mínimo y máximo del plot para una mejor visualización.\n",
    "\n",
    "Y agregaremos más herramientas de cartopy: con `add_feature()` y `ax.set_extent()`"
   ]
  },
  {
   "cell_type": "code",
   "execution_count": null,
   "id": "0b88aacb",
   "metadata": {},
   "outputs": [],
   "source": [
    "fig = plt.figure(figsize=(10,6))\n",
    "ax = plt.axes(projection=ccrs.Mercator()) # Defino la proyección del mapa\n",
    "sst.plot.pcolormesh(ax=ax, transform=ccrs.PlateCarree(), cmap=cmocean.cm.thermal,   # Uso la transformación PlateCaree porque tengo los datos en lat/lon\n",
    "                    vmin = sst.min(), vmax = sst.max(), # Valores mínimo y máximo de la sst\n",
    "                    cbar_kwargs={'label': 'SST (°C)'})\n",
    "ax.coastlines()\n",
    "ax.gridlines(draw_labels=True)\n",
    "ax.add_feature(cfeature.LAND, color = 'grey')\n",
    "ax.set_title(\"Temperatura superficial del mar - Proyección Miller\")\n",
    "plt.show()"
   ]
  },
  {
   "cell_type": "code",
   "execution_count": null,
   "id": "33d583c7-7a76-49b7-8c73-7c78f8503b69",
   "metadata": {},
   "outputs": [],
   "source": [
    "lon_min = -82\n",
    "lon_max = -50\n",
    "lat_min = -60\n",
    "lat_max = -20\n",
    "\n",
    "fig = plt.figure(figsize=(10,6))\n",
    "ax = plt.axes(projection=ccrs.Miller()) # Defino la proyección del mapa\n",
    "ax.set_extent([lon_min, lon_max, lat_min, lat_max], crs=ccrs.PlateCarree())\n",
    "sst.plot.pcolormesh(ax=ax, transform=ccrs.PlateCarree(), cmap=cmocean.cm.thermal,   # Uso la transformación PlateCaree porque tengo los datos en lat/lon\n",
    "                    vmin = sst.min(), vmax = sst.max(), # Valores mínimo y máximo de la sst\n",
    "                    cbar_kwargs={'label': 'SST (°C)'})\n",
    "ax.coastlines(color = 'red')\n",
    "ax.add_feature(cfeature.LAND, color = 'black')\n",
    "\n",
    "# Gridlines\n",
    "gl = ax.gridlines(draw_labels=True, linewidth=0.5, color='grey', linestyle='-.')\n",
    "gl.top_labels = False \n",
    "gl.right_labels = False\n",
    "\n",
    "\n",
    "ax.set_title(\"Temperatura superficial del mar - Proyección Miller\")\n",
    "plt.show()"
   ]
  },
  {
   "cell_type": "markdown",
   "id": "73eae645",
   "metadata": {},
   "source": [
    "## 6. Diferencias entre `pcolormesh`, `contour` y `contourf`\n",
    "\n",
    "- **pcolormesh**: colorea cada celda con el valor correspondiente (ideal para datos de grilla).\n",
    "- **contour**: dibuja sólo las líneas de contorno (isolíneas), sin color de relleno.\n",
    "- **contourf**: crea polígonos coloreados interpolando entre valores (útil para visualizar gradientes suaves)."
   ]
  },
  {
   "cell_type": "code",
   "execution_count": null,
   "id": "0151cb25",
   "metadata": {},
   "outputs": [],
   "source": [
    "fig, axes = plt.subplots(1,3, figsize=(18,5), subplot_kw={'projection': ccrs.PlateCarree()})\n",
    "\n",
    "# pcolormesh\n",
    "sst.plot.pcolormesh(ax=axes[0], transform=ccrs.PlateCarree(), cmap=cmocean.cm.thermal,\n",
    "                    cbar_kwargs={'label': 'SST (°C)'})\n",
    "axes[0].set_extent([lon_min, lon_max, lat_min, lat_max], crs=ccrs.PlateCarree())\n",
    "axes[0].coastlines()\n",
    "axes[0].set_title(\"pcolormesh\")\n",
    "\n",
    "# contourf\n",
    "sst.plot.contourf(ax=axes[1], transform=ccrs.PlateCarree(), cmap=cmocean.cm.thermal, vmin = sst.min(), vmax = sst.max(),\n",
    "                  cbar_kwargs={'label': 'SST (°C)'})\n",
    "axes[1].set_extent([lon_min, lon_max, lat_min, lat_max], crs=ccrs.PlateCarree())\n",
    "axes[1].coastlines()\n",
    "axes[1].set_title(\"contourf\")\n",
    "\n",
    "# contour\n",
    "sst.plot.contour(ax=axes[2], transform=ccrs.PlateCarree(), vmin = sst.min(), vmax = sst.max(), colors='black')\n",
    "axes[2].set_extent([lon_min, lon_max, lat_min, lat_max], crs=ccrs.PlateCarree())\n",
    "axes[2].coastlines()\n",
    "axes[2].set_title(\"contour\")\n",
    "\n",
    "plt.show()"
   ]
  },
  {
   "cell_type": "markdown",
   "id": "28ab16ab",
   "metadata": {},
   "source": [
    "## Figura Final Mejorada\n",
    "\n",
    "Ejemplo de mapa con estética más cuidada y uso de herramientas de Cartopy."
   ]
  },
  {
   "cell_type": "code",
   "execution_count": null,
   "id": "693ef13e",
   "metadata": {},
   "outputs": [],
   "source": [
    "fig = plt.figure(figsize=(10,6))\n",
    "ax = plt.subplot(111, projection=ccrs.Miller())\n",
    "ax.set_extent([lon_min, lon_max, lat_min, lat_max], crs=ccrs.PlateCarree())\n",
    "\n",
    "# Título\n",
    "ax.set_title(\"Temperatura superficial del mar\\n 2025-10-04\")\n",
    "\n",
    "# Definir niveles para contourf\n",
    "levels_contourf = np.linspace(0, 20, 21)  # 21 niveles y van de 0ªC a 20 ªC\n",
    "\n",
    "# Contourf para colores\n",
    "cf = ax.contourf(lon, lat, sst, levels=levels_contourf, transform=ccrs.PlateCarree(),\n",
    "                 cmap=cmocean.cm.thermal, extend='both')\n",
    "\n",
    "# Contour para isotermas específicas\n",
    "iso = ax.contour(lon, lat, sst, levels=[5, 10], colors='lightgray', linewidths=1,\n",
    "                 transform=ccrs.PlateCarree())\n",
    "ax.clabel(iso, fmt='%d°C', inline=True, fontsize=10)  # etiquetas en las isotermas\n",
    "\n",
    "# Tierra con cfeature.LAND\n",
    "ax.add_feature(cfeature.LAND, facecolor='lightgray', edgecolor='grey')\n",
    "\n",
    "# Gridlines\n",
    "gl = ax.gridlines(draw_labels=True, linewidth=0.5, color='grey', linestyle='-.')\n",
    "gl.top_labels = False\n",
    "gl.right_labels = False\n",
    "\n",
    "# Barra de colores\n",
    "cb = plt.colorbar(cf, extend=\"both\", orientation='vertical')\n",
    "cb.set_label(\"SST (°C)\")\n",
    "\n",
    "plt.show()"
   ]
  },
  {
   "cell_type": "markdown",
   "id": "5127ff6e",
   "metadata": {},
   "source": [
    "## Ejercicios\n",
    "\n",
    "- Cambiar la zona de interés usando `ax.set_extent()`\n",
    "- Cambiar la proyección de la figura\n",
    "- Añadir fronteras y ríos usando `ax.add_feature`()"
   ]
  }
 ],
 "metadata": {
  "kernelspec": {
   "display_name": "Python 3 (ipykernel)",
   "language": "python",
   "name": "python3"
  },
  "language_info": {
   "codemirror_mode": {
    "name": "ipython",
    "version": 3
   },
   "file_extension": ".py",
   "mimetype": "text/x-python",
   "name": "python",
   "nbconvert_exporter": "python",
   "pygments_lexer": "ipython3",
   "version": "3.12.7"
  }
 },
 "nbformat": 4,
 "nbformat_minor": 5
}
