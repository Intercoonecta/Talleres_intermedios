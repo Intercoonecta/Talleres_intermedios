{
 "cells": [
  {
   "cell_type": "markdown",
   "id": "6d68029e",
   "metadata": {},
   "source": [
    "# Visualización de datos geoespaciales con Cartopy 🌍\n",
    "\n",
    "Este notebook introduce el uso de **Cartopy** para visualizar datos espaciales. \n",
    "Si encuentran ejemplos antiguos en Basemap, la lógica es bastante parecida.\n",
    "\n",
    "Veremos:\n",
    "- Cómo visualizar datos geoespaciales a través de mapas con distintas proyecciones.\n",
    "- Elementos y herramientas del gráfico (línea de costa, barras de colores y rangos, cuadrícula en los ejes).\n",
    "- Diferentes formas de visualizar nuestros datos (`pcolormesh`, `contourf` y `contour`).\n",
    "\n",
    "El notebook está pensado como una herramienta práctica para aprender y luego consultar cuando lo necesiten."
   ]
  },
  {
   "cell_type": "markdown",
   "id": "5fab21a4",
   "metadata": {},
   "source": [
    "## Diferencia entre **Matplotlib**, **Basemap** y **Cartopy**\n",
    "\n",
    "- **Matplotlib**: grafica en coordenadas cartesianas (x, y).  \n",
    "- **Basemap**: fue la primera extensión de matplotlib para mapas, hoy está en desuso.  \n",
    "- **Cartopy**: la librería actual recomendada; integra directamente con matplotlib y soporta múltiples proyecciones.  \n",
    "\n",
    "Cartopy es más flexible y tiene soporte activo."
   ]
  },
  {
   "cell_type": "markdown",
   "id": "459a70a3",
   "metadata": {},
   "source": [
    "## 1. Instalación\n",
    "\n",
    "Para instalar las librerías necesarias, escribimos en la terminal dentro de nuestro entorno de trabajo:\n",
    "\n",
    "```bash\n",
    "pip install xarray matplotlib cartopy cmocean\n",
    "```"
   ]
  },
  {
   "cell_type": "markdown",
   "id": "548867ef",
   "metadata": {},
   "source": [
    "## 2. Importación de librerías necesarias"
   ]
  },
  {
   "cell_type": "code",
   "execution_count": null,
   "id": "910d69d5",
   "metadata": {},
   "outputs": [],
   "source": [
    "import xarray as xr\n",
    "import matplotlib.pyplot as plt\n",
    "import cartopy.crs as ccrs\n",
    "import cartopy.feature as cfeature\n",
    "import cmocean"
   ]
  },
  {
   "cell_type": "markdown",
   "id": "7e99a733",
   "metadata": {},
   "source": [
    "## 3. Abrir nuestro archivo de datos con formato NetCDF\n",
    "\n",
    "Usaremos un archivo NetCDF que contiene información de **temperatura superficial del mar (SST)** de MODIS.\n",
    "\n",
    "Ejemplo: `sst_modis.nc`, con coordenadas `lat`, `lon` y `time`. Podemos seleccionar un instante de tiempo para graficar el campo espacial:"
   ]
  },
  {
   "cell_type": "code",
   "execution_count": null,
   "id": "0bed8152",
   "metadata": {},
   "outputs": [],
   "source": [
    "# Abrir dataset NetCDF\n",
    "ds = xr.open_dataset(\"sst_modis.nc\")\n",
    "\n",
    "ds.info()\n",
    "ds.coords"
   ]
  },
  {
   "cell_type": "code",
   "execution_count": null,
   "id": "e30ee82b",
   "metadata": {},
   "outputs": [],
   "source": [
    "# Seleccionar variable y un instante de tiempo\n",
    "sst = ds['sst'].isel(time=0)\n",
    "\n",
    "lon = ds.lon.values\n",
    "lat = ds.lat.values"
   ]
  },
  {
   "cell_type": "markdown",
   "id": "c31eae18",
   "metadata": {},
   "source": [
    "## 4. Visualización básica con Matplotlib (sin proyección)\n",
    "\n",
    "Usaremos `pcolormesh` para una visualización rápida de los datos."
   ]
  },
  {
   "cell_type": "code",
   "execution_count": null,
   "id": "64a7f117",
   "metadata": {},
   "outputs": [],
   "source": [
    "plt.pcolormesh(lon, lat, sst)"
   ]
  },
  {
   "cell_type": "code",
   "execution_count": null,
   "id": "3339881f",
   "metadata": {},
   "outputs": [],
   "source": [
    "plt.figure(figsize=(8,5))\n",
    "plt.pcolormesh(lon, lat, sst, cmap=cmocean.cm.thermal)\n",
    "plt.colorbar(label=\"SST (°C)\")\n",
    "plt.title(\"Visualización básica con matplotlib (sin proyección)\")\n",
    "plt.xlabel(\"Longitud\")\n",
    "plt.ylabel(\"Latitud\")\n",
    "plt.show()"
   ]
  },
  {
   "cell_type": "markdown",
   "id": "11834d0e",
   "metadata": {},
   "source": [
    "## 5. Visualización básica con Cartopy\n",
    "\n",
    "Graficaremos el campo de temperatura en una proyección **PlateCarree** (la más simple).\n",
    "\n",
    "💡 Nota pedagógica: `transform=ccrs.PlateCarree()` indica que las coordenadas de los datos están en lat/lon. Esto es importante para que Cartopy proyecte correctamente los datos sobre la proyección del mapa."
   ]
  },
  {
   "cell_type": "code",
   "execution_count": null,
   "id": "602486f8",
   "metadata": {},
   "outputs": [],
   "source": [
    "fig = plt.figure(figsize=(10,6))\n",
    "ax = plt.axes(projection=ccrs.PlateCarree())\n",
    "sst.plot.pcolormesh(ax=ax, transform=ccrs.PlateCarree(), cmap=cmocean.cm.thermal,\n",
    "                    cbar_kwargs={'label': 'SST (°C)'})\n",
    "ax.coastlines()\n",
    "ax.add_feature(cfeature.BORDERS, linestyle=':')\n",
    "ax.set_title(\"Temperatura superficial del mar (MODIS) - Proyección PlateCarree\")\n",
    "plt.show()"
   ]
  },
  {
   "cell_type": "markdown",
   "id": "8d08114f",
   "metadata": {},
   "source": [
    "## Ejemplo con otra proyección: Miller\n",
    "\n",
    "La **proyección Miller** es similar a Mercator, pero corrige ligeramente la distorsión en latitudes altas. Útil para mapas globales."
   ]
  },
  {
   "cell_type": "code",
   "execution_count": null,
   "id": "0b88aacb",
   "metadata": {},
   "outputs": [],
   "source": [
    "fig = plt.figure(figsize=(10,6))\n",
    "ax = plt.axes(projection=ccrs.Miller())\n",
    "sst.plot.pcolormesh(ax=ax, transform=ccrs.PlateCarree(), cmap=cmocean.cm.thermal,\n",
    "                    cbar_kwargs={'label': 'SST (°C)'})\n",
    "ax.coastlines()\n",
    "ax.gridlines(draw_labels=True)\n",
    "ax.set_title(\"Temperatura superficial del mar (MODIS) - Proyección Miller\")\n",
    "plt.show()"
   ]
  },
  {
   "cell_type": "markdown",
   "id": "73eae645",
   "metadata": {},
   "source": [
    "## 6. Diferencias entre `pcolormesh`, `contour` y `contourf`\n",
    "\n",
    "- **pcolormesh**: colorea cada celda con el valor correspondiente (ideal para datos de grilla).\n",
    "- **contour**: dibuja sólo las líneas de contorno (isolíneas), sin color de relleno.\n",
    "- **contourf**: crea polígonos coloreados interpolando entre valores (útil para visualizar gradientes suaves)."
   ]
  },
  {
   "cell_type": "code",
   "execution_count": null,
   "id": "0151cb25",
   "metadata": {},
   "outputs": [],
   "source": [
    "fig, axes = plt.subplots(1,3, figsize=(18,5), subplot_kw={'projection': ccrs.PlateCarree()})\n",
    "\n",
    "# pcolormesh\n",
    "sst.plot.pcolormesh(ax=axes[0], transform=ccrs.PlateCarree(), cmap=cmocean.cm.thermal,\n",
    "                    cbar_kwargs={'label': 'SST (°C)'})\n",
    "axes[0].coastlines()\n",
    "axes[0].set_title(\"pcolormesh\")\n",
    "\n",
    "# contourf\n",
    "sst.plot.contourf(ax=axes[1], transform=ccrs.PlateCarree(), cmap=cmocean.cm.thermal,\n",
    "                  cbar_kwargs={'label': 'SST (°C)'})\n",
    "axes[1].coastlines()\n",
    "axes[1].set_title(\"contourf\")\n",
    "\n",
    "# contour\n",
    "sst.plot.contour(ax=axes[2], transform=ccrs.PlateCarree(), colors='black')\n",
    "axes[2].coastlines()\n",
    "axes[2].set_title(\"contour\")\n",
    "\n",
    "plt.show()"
   ]
  },
  {
   "cell_type": "markdown",
   "id": "28ab16ab",
   "metadata": {},
   "source": [
    "## Figura Final Mejorada\n",
    "\n",
    "Ejemplo de mapa con estética más cuidada y uso de herramientas de Cartopy."
   ]
  },
  {
   "cell_type": "code",
   "execution_count": null,
   "id": "693ef13e",
   "metadata": {},
   "outputs": [],
   "source": [
    "fig = plt.figure(figsize=(10,6))\n",
    "ax = plt.subplot(111, projection=ccrs.Miller())\n",
    "\n",
    "# Título\n",
    "ax.set_title(\"Temperatura superficial del mar\\nMODIS Terra (2000-2024)\")\n",
    "\n",
    "# Graficar datos\n",
    "pcm = ax.pcolormesh(lon, lat, sst, transform=ccrs.PlateCarree(), vmin=4., vmax=14., cmap=cmocean.cm.thermal)\n",
    "\n",
    "# Línea de costa y bordes\n",
    "coast = cfeature.GSHHSFeature(scale=\"l\")\n",
    "ax.add_feature(coast, linewidth=0.25, facecolor='.65')\n",
    "\n",
    "# Gridlines\n",
    "gl = ax.gridlines(draw_labels=True, linewidth=0.5, color='.25', linestyle='-.', zorder=2)\n",
    "gl.top_labels = False \n",
    "gl.right_labels = False\n",
    "\n",
    "# Barra de colores\n",
    "cb = plt.colorbar(pcm, extend=\"both\")\n",
    "cb.set_label(\"SST (°C)\", rotation=0, ha=\"left\")\n",
    "\n",
    "plt.show()"
   ]
  },
  {
   "cell_type": "markdown",
   "id": "5127ff6e",
   "metadata": {},
   "source": [
    "## Ejercicios\n",
    "\n",
    "- Cambiar la zona de interés usando `ax.set_extent()` y adaptar el rango de valores de temperatura.\n",
    "- Cambiar la proyección de la figura.\n",
    "- Añadir fronteras y ríos usando `cartopy.feature`."
   ]
  }
 ],
 "metadata": {
  "language_info": {
   "name": "python"
  }
 },
 "nbformat": 4,
 "nbformat_minor": 5
}
